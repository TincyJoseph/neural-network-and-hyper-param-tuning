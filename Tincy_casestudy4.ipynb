{
  "nbformat": 4,
  "nbformat_minor": 0,
  "metadata": {
    "colab": {
      "provenance": [],
      "collapsed_sections": []
    },
    "kernelspec": {
      "name": "python3",
      "display_name": "Python 3"
    },
    "language_info": {
      "name": "python"
    }
  },
  "cells": [
    {
      "cell_type": "code",
      "execution_count": 1,
      "metadata": {
        "id": "kp2o-L-NwE02"
      },
      "outputs": [],
      "source": [
        "import numpy as np\n",
        "import pandas as pd\n",
        "import matplotlib.pyplot as plt\n",
        "import seaborn as sns"
      ]
    },
    {
      "cell_type": "code",
      "source": [
        "from tensorflow.keras import Sequential"
      ],
      "metadata": {
        "id": "psK_D48FwcXu"
      },
      "execution_count": 2,
      "outputs": []
    },
    {
      "cell_type": "code",
      "source": [
        "from tensorflow.python.keras.layers import Dense"
      ],
      "metadata": {
        "id": "l9eFsNRDwdS4"
      },
      "execution_count": 3,
      "outputs": []
    },
    {
      "cell_type": "code",
      "source": [
        "#Reading train data\n",
        "data=pd.read_csv(\"/content/magic_gamma_telescope04_ (1).csv\")"
      ],
      "metadata": {
        "id": "zhu03zeKwhUw"
      },
      "execution_count": 4,
      "outputs": []
    },
    {
      "cell_type": "code",
      "source": [
        "data.shape"
      ],
      "metadata": {
        "colab": {
          "base_uri": "https://localhost:8080/"
        },
        "id": "wUNH5GMSwlkB",
        "outputId": "fb9f4d0f-b2bf-4003-9258-b2eb3d4b8af3"
      },
      "execution_count": 5,
      "outputs": [
        {
          "output_type": "execute_result",
          "data": {
            "text/plain": [
              "(19020, 11)"
            ]
          },
          "metadata": {},
          "execution_count": 5
        }
      ]
    },
    {
      "cell_type": "code",
      "source": [
        "data.info()"
      ],
      "metadata": {
        "colab": {
          "base_uri": "https://localhost:8080/"
        },
        "id": "mQext31ixft8",
        "outputId": "10bdf659-3b7b-477a-8bc5-cc459770ec5e"
      },
      "execution_count": 6,
      "outputs": [
        {
          "output_type": "stream",
          "name": "stdout",
          "text": [
            "<class 'pandas.core.frame.DataFrame'>\n",
            "RangeIndex: 19020 entries, 0 to 19019\n",
            "Data columns (total 11 columns):\n",
            " #   Column    Non-Null Count  Dtype  \n",
            "---  ------    --------------  -----  \n",
            " 0   flength   19020 non-null  float64\n",
            " 1   fwidth    19020 non-null  float64\n",
            " 2   fsize     19020 non-null  float64\n",
            " 3   fconc     19020 non-null  float64\n",
            " 4   fconc1    19020 non-null  float64\n",
            " 5   fsym      19020 non-null  float64\n",
            " 6   fm3long   19020 non-null  float64\n",
            " 7   fm3trans  19020 non-null  float64\n",
            " 8   falpha    19020 non-null  float64\n",
            " 9   dist      19020 non-null  float64\n",
            " 10  class     19020 non-null  object \n",
            "dtypes: float64(10), object(1)\n",
            "memory usage: 1.6+ MB\n"
          ]
        }
      ]
    },
    {
      "cell_type": "code",
      "source": [
        "#Checking for missing values\n",
        "data.isna().sum()"
      ],
      "metadata": {
        "colab": {
          "base_uri": "https://localhost:8080/"
        },
        "id": "SENzjl3GwoYi",
        "outputId": "555199f3-fc36-413f-d2a9-b96d842b8304"
      },
      "execution_count": 7,
      "outputs": [
        {
          "output_type": "execute_result",
          "data": {
            "text/plain": [
              "flength     0\n",
              "fwidth      0\n",
              "fsize       0\n",
              "fconc       0\n",
              "fconc1      0\n",
              "fsym        0\n",
              "fm3long     0\n",
              "fm3trans    0\n",
              "falpha      0\n",
              "dist        0\n",
              "class       0\n",
              "dtype: int64"
            ]
          },
          "metadata": {},
          "execution_count": 7
        }
      ]
    },
    {
      "cell_type": "code",
      "source": [
        "data.columns"
      ],
      "metadata": {
        "colab": {
          "base_uri": "https://localhost:8080/"
        },
        "id": "_gS0x4PyyJhK",
        "outputId": "39362693-83e3-4cf5-fdb7-c860170bae02"
      },
      "execution_count": 8,
      "outputs": [
        {
          "output_type": "execute_result",
          "data": {
            "text/plain": [
              "Index(['flength', 'fwidth', 'fsize', 'fconc', 'fconc1', 'fsym', 'fm3long',\n",
              "       'fm3trans', 'falpha', 'dist', 'class'],\n",
              "      dtype='object')"
            ]
          },
          "metadata": {},
          "execution_count": 8
        }
      ]
    },
    {
      "cell_type": "code",
      "source": [
        "#Checking for outliers\n",
        "plt.figure(figsize=(16,8))\n",
        "\n",
        "plt.subplot(5,2,1)\n",
        "plt.boxplot(data['flength'])\n",
        "plt.title(\"flength\")\n",
        "\n",
        "plt.subplot(5,2,2)\n",
        "plt.boxplot(data['fwidth'])\n",
        "plt.title(\"fwidth\")\n",
        "\n",
        "plt.subplot(5,2,3)\n",
        "plt.boxplot(data['fsize'])\n",
        "plt.title(\"fsize\")\n",
        "\n",
        "plt.subplot(5,2,4)\n",
        "plt.boxplot(data['fconc'])\n",
        "plt.title(\"fconc\")\n",
        "\n",
        "plt.subplot(5,2,5)\n",
        "plt.boxplot(data['fconc1'])\n",
        "plt.title(\"fconc1\")\n",
        "\n",
        "plt.subplot(5,2,6)\n",
        "plt.boxplot(data['fsym'])\n",
        "plt.title(\"fsym\")\n",
        "\n",
        "plt.subplot(5,2,7)\n",
        "plt.boxplot(data['fm3long'])\n",
        "plt.title(\"fm3long\")\n",
        "\n",
        "plt.subplot(5,2,8)\n",
        "plt.boxplot(data['fm3trans'])\n",
        "plt.title(\"fm3trans\")\n",
        "\n",
        "plt.subplot(5,2,9)\n",
        "plt.boxplot(data['falpha'])\n",
        "plt.title(\"falpha\")\n",
        "\n",
        "plt.subplot(5,2,10)\n",
        "plt.boxplot(data['dist'])\n",
        "plt.title(\"dist\")\n",
        "\n",
        "plt.show()\n",
        "    "
      ],
      "metadata": {
        "colab": {
          "base_uri": "https://localhost:8080/",
          "height": 499
        },
        "id": "MpAeHlIBws0X",
        "outputId": "35f7a5dc-8903-425f-ef71-1c9cf746ece5"
      },
      "execution_count": 9,
      "outputs": [
        {
          "output_type": "display_data",
          "data": {
            "text/plain": [
              "<Figure size 1152x576 with 10 Axes>"
            ],
            "image/png": "[encoded data removed]"
          },
          "metadata": {
            "needs_background": "light"
          }
        }
      ]
    },
    {
      "cell_type": "code",
      "source": [
        "#Removing Outliers\n",
        "colum=['flength', 'fwidth', 'fsize', 'fconc', 'fconc1', 'fsym', 'fm3long',\n",
        "       'fm3trans', 'falpha', 'dist']\n",
        "for col in colum:\n",
        "  Q1 = np.percentile(data[col],25,interpolation='midpoint')\n",
        "  Q2 = np.percentile(data[col],50,interpolation='midpoint')\n",
        "  Q3 = np.percentile(data[col],75,interpolation='midpoint')\n",
        "  IQR = Q3-Q1\n",
        "  low_limit = Q1-1.5*IQR\n",
        "  upper_limit = Q3+1.5*IQR\n",
        "  data=data.drop(data.loc[(data[col]>upper_limit)|(data[col]<low_limit)].index)\n",
        "data.shape"
      ],
      "metadata": {
        "colab": {
          "base_uri": "https://localhost:8080/"
        },
        "id": "eCBCLr36wxM1",
        "outputId": "27c0e6fb-608f-4bb8-d784-81691973c250"
      },
      "execution_count": 10,
      "outputs": [
        {
          "output_type": "execute_result",
          "data": {
            "text/plain": [
              "(15035, 11)"
            ]
          },
          "metadata": {},
          "execution_count": 10
        }
      ]
    },
    {
      "cell_type": "code",
      "source": [
        "data[\"class\"].value_counts()"
      ],
      "metadata": {
        "colab": {
          "base_uri": "https://localhost:8080/"
        },
        "id": "bIkYQRia1sQ7",
        "outputId": "1cb32e06-54fa-404c-8856-57691ebd0fbe"
      },
      "execution_count": 11,
      "outputs": [
        {
          "output_type": "execute_result",
          "data": {
            "text/plain": [
              "g    10762\n",
              "h     4273\n",
              "Name: class, dtype: int64"
            ]
          },
          "metadata": {},
          "execution_count": 11
        }
      ]
    },
    {
      "cell_type": "code",
      "source": [
        "data[\"class\"]=data[\"class\"].map({\"g\":0,\"h\":1})"
      ],
      "metadata": {
        "id": "0hSGFUAR1fl_"
      },
      "execution_count": 12,
      "outputs": []
    },
    {
      "cell_type": "code",
      "source": [
        "#Splitting features and output\n",
        "X = data.drop(['class'],axis=1)\n",
        "\n",
        "y = data['class']"
      ],
      "metadata": {
        "id": "D3fvjrSkz2yE"
      },
      "execution_count": 13,
      "outputs": []
    },
    {
      "cell_type": "code",
      "source": [
        "from sklearn.preprocessing import StandardScaler\n",
        "std=StandardScaler()\n",
        "X=std.fit_transform(X)"
      ],
      "metadata": {
        "id": "vHWlOoCF0GGX"
      },
      "execution_count": 14,
      "outputs": []
    },
    {
      "cell_type": "code",
      "source": [
        "from sklearn.model_selection import train_test_split\n",
        "X_train,X_test,y_train,y_test=train_test_split(X,y,test_size=0.2,random_state=1)"
      ],
      "metadata": {
        "id": "3UOOXAkk0MC3"
      },
      "execution_count": 15,
      "outputs": []
    },
    {
      "cell_type": "code",
      "source": [
        "from tensorflow.keras.optimizers import SGD\n",
        "sgd = SGD(lr=0.01, momentum=0.8)"
      ],
      "metadata": {
        "colab": {
          "base_uri": "https://localhost:8080/"
        },
        "id": "t-ijNUrL01e6",
        "outputId": "a57320f7-6c78-438c-859c-d6a2d7918dfe"
      },
      "execution_count": 16,
      "outputs": [
        {
          "output_type": "stream",
          "name": "stderr",
          "text": [
            "/usr/local/lib/python3.7/dist-packages/keras/optimizers/optimizer_v2/gradient_descent.py:108: UserWarning: The `lr` argument is deprecated, use `learning_rate` instead.\n",
            "  super(SGD, self).__init__(name, **kwargs)\n"
          ]
        }
      ]
    },
    {
      "cell_type": "code",
      "source": [
        "n_features=10\n",
        "def create_model():\n",
        "    # create model\n",
        "    model = Sequential()\n",
        "    model.add(Dense(20, activation=\"tanh\", kernel_initializer='he_normal', input_shape=(n_features,)))\n",
        "    model.add(Dense(15, activation='tanh', kernel_initializer='he_normal'))\n",
        "    model.add(Dense(1, activation='sigmoid'))\n",
        "    # Compile model\n",
        "    model.compile(optimizer=\"sgd\", loss='binary_crossentropy', metrics=['accuracy'])\n",
        "    return model"
      ],
      "metadata": {
        "id": "XuikB0djKocI"
      },
      "execution_count": 17,
      "outputs": []
    },
    {
      "cell_type": "code",
      "source": [
        "from keras.wrappers.scikit_learn import KerasClassifier"
      ],
      "metadata": {
        "id": "T8eI-vAfLPS2"
      },
      "execution_count": 18,
      "outputs": []
    },
    {
      "cell_type": "code",
      "source": [
        "# create model\n",
        "model = KerasClassifier(build_fn=create_model, verbose=0)"
      ],
      "metadata": {
        "colab": {
          "base_uri": "https://localhost:8080/"
        },
        "id": "ZADTgcWjLfCo",
        "outputId": "d0efcf9a-bbff-445b-dfec-230cd6e70ae6"
      },
      "execution_count": 21,
      "outputs": [
        {
          "output_type": "stream",
          "name": "stderr",
          "text": [
            "/usr/local/lib/python3.7/dist-packages/ipykernel_launcher.py:2: DeprecationWarning: KerasClassifier is deprecated, use Sci-Keras (https://github.com/adriangb/scikeras) instead. See https://www.adriangb.com/scikeras/stable/migration.html for help migrating.\n",
            "  \n"
          ]
        }
      ]
    },
    {
      "cell_type": "code",
      "source": [
        "from sklearn.model_selection import GridSearchCV\n",
        "\n",
        "epochs = [10, 50]\n",
        "batch_size=[5, 10, 20]\n",
        "param_grid = {\"epochs\":epochs,\"batch_size\":batch_size}\n",
        "grid = GridSearchCV(estimator=model, param_grid=param_grid, n_jobs=-1, cv=3, scoring = 'accuracy')\n",
        "grid_result = grid.fit(X_train, y_train)\n",
        "# summarize results\n",
        "print(\"Best: %f using %s\" % (grid_result.best_score_, grid_result.best_params_))\n",
        "\n"
      ],
      "metadata": {
        "id": "tvoNCjYI1LpZ",
        "colab": {
          "base_uri": "https://localhost:8080/"
        },
        "outputId": "ee8de965-9ed3-41f6-e93b-b8cd42847aec"
      },
      "execution_count": 32,
      "outputs": [
        {
          "output_type": "stream",
          "name": "stdout",
          "text": [
            "Best: 0.859411 using {'batch_size': 10, 'epochs': 50}\n"
          ]
        }
      ]
    },
    {
      "cell_type": "code",
      "source": [
        "model.fit(X_train,y_train,batch_size=10,epochs=50)"
      ],
      "metadata": {
        "colab": {
          "base_uri": "https://localhost:8080/"
        },
        "id": "19GP0mF_URt6",
        "outputId": "f8332dcd-7984-443f-ba37-388242314778"
      },
      "execution_count": 33,
      "outputs": [
        {
          "output_type": "execute_result",
          "data": {
            "text/plain": [
              "<keras.callbacks.History at 0x7fef45676590>"
            ]
          },
          "metadata": {},
          "execution_count": 33
        }
      ]
    },
    {
      "cell_type": "code",
      "source": [
        "y_pred=model.predict(X_test)\n",
        "y_pred=np.array(y_pred.flatten(),dtype=float)"
      ],
      "metadata": {
        "colab": {
          "base_uri": "https://localhost:8080/"
        },
        "id": "zUWKSXna2LY5",
        "outputId": "2e61276d-37e3-432e-b136-526403cca4e0"
      },
      "execution_count": 34,
      "outputs": [
        {
          "output_type": "stream",
          "name": "stdout",
          "text": [
            "94/94 [==============================] - 0s 2ms/step\n"
          ]
        }
      ]
    },
    {
      "cell_type": "code",
      "source": [
        "y_model=(y_pred>0.5).astype(int)"
      ],
      "metadata": {
        "id": "7Fy17-rq_TVW"
      },
      "execution_count": 35,
      "outputs": []
    },
    {
      "cell_type": "code",
      "source": [
        "y_model"
      ],
      "metadata": {
        "colab": {
          "base_uri": "https://localhost:8080/"
        },
        "id": "i44hZbbR25p6",
        "outputId": "e28dc5c6-a8f0-4223-ed54-cc1e4dbf1feb"
      },
      "execution_count": 36,
      "outputs": [
        {
          "output_type": "execute_result",
          "data": {
            "text/plain": [
              "array([0, 0, 0, ..., 0, 0, 0])"
            ]
          },
          "metadata": {},
          "execution_count": 36
        }
      ]
    },
    {
      "cell_type": "code",
      "source": [
        "#Checking the accuracy and f1_score\n",
        "from sklearn.metrics import accuracy_score,f1_score\n",
        "print(f\"accuracy: {accuracy_score( y_test,y_model)}\")\n",
        "print(f\"f1_score: {f1_score( y_test,y_model)}\")"
      ],
      "metadata": {
        "colab": {
          "base_uri": "https://localhost:8080/"
        },
        "id": "SX1dHS5E2Sjo",
        "outputId": "93bce35e-df2d-4d33-8eac-1125ef203889"
      },
      "execution_count": 37,
      "outputs": [
        {
          "output_type": "stream",
          "name": "stdout",
          "text": [
            "accuracy: 0.8699700698370469\n",
            "f1_score: 0.7491982039769083\n"
          ]
        }
      ]
    }
  ]
}